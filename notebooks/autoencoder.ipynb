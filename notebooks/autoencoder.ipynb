{
 "cells": [
  {
   "cell_type": "code",
   "execution_count": 32,
   "metadata": {},
   "outputs": [],
   "source": [
    "import keras\n",
    "from keras import layers\n",
    "import pandas as pd\n",
    "from sklearn.model_selection import train_test_split\n",
    "import matplotlib.pyplot as plt\n",
    "import numpy as np"
   ]
  },
  {
   "cell_type": "code",
   "execution_count": 33,
   "metadata": {},
   "outputs": [
    {
     "name": "stdout",
     "output_type": "stream",
     "text": [
      "Model: \"model_5\"\n",
      "__________________________________________________________________________________________________\n",
      " Layer (type)                   Output Shape         Param #     Connected to                     \n",
      "==================================================================================================\n",
      " input_layer (InputLayer)       [(None, 31)]         0           []                               \n",
      "                                                                                                  \n",
      " dense_30 (Dense)               (None, 512)          16384       ['input_layer[0][0]']            \n",
      "                                                                                                  \n",
      " dense_31 (Dense)               (None, 256)          131328      ['dense_30[0][0]']               \n",
      "                                                                                                  \n",
      " dense_32 (Dense)               (None, 128)          32896       ['dense_31[0][0]']               \n",
      "                                                                                                  \n",
      " dense_33 (Dense)               (None, 128)          16512       ['dense_32[0][0]']               \n",
      "                                                                                                  \n",
      " dense_34 (Dense)               (None, 256)          33024       ['dense_33[0][0]']               \n",
      "                                                                                                  \n",
      " dense_35 (Dense)               (None, 512)          131584      ['dense_34[0][0]']               \n",
      "                                                                                                  \n",
      " cont_decoder_output (Dense)    (None, 30)           15390       ['dense_35[0][0]']               \n",
      "                                                                                                  \n",
      " classification_output (Dense)  (None, 1)            513         ['dense_35[0][0]']               \n",
      "                                                                                                  \n",
      "==================================================================================================\n",
      "Total params: 377,631\n",
      "Trainable params: 377,631\n",
      "Non-trainable params: 0\n",
      "__________________________________________________________________________________________________\n"
     ]
    }
   ],
   "source": [
    "# This is our input image\n",
    "encoder_inputs = keras.Input(shape=(31), name=\"input_layer\")\n",
    "# \"encoded\" is the encoded representation of the input\n",
    "x = layers.Dense(512, activation=\"relu\")(encoder_inputs)\n",
    "x = layers.Dense(256, activation=\"relu\")(x)\n",
    "x = layers.Dense(128, activation=\"relu\")(x)\n",
    "\n",
    "x = layers.Dense(128, activation=\"relu\")(x)\n",
    "x = layers.Dense(256, activation=\"relu\")(x)\n",
    "x = layers.Dense(512, activation=\"relu\")(x)\n",
    "\n",
    "cont_decoder_outputs = layers.Dense(30, activation=\"relu\", name=\"cont_decoder_output\")(x)\n",
    "class_decoder_output = layers.Dense(1, activation=\"sigmoid\", name=\"classification_output\")(x)\n",
    "\n",
    "\n",
    "autoencoder = keras.Model(encoder_inputs, [cont_decoder_outputs, class_decoder_output])\n",
    "\n",
    "autoencoder.compile(\n",
    "    optimizer=\"adam\",\n",
    "    loss={\"cont_decoder_output\": \"mse\", \"classification_output\": \"binary_crossentropy\"},\n",
    ")\n",
    "\n",
    "# Print the model summary\n",
    "autoencoder.summary()"
   ]
  },
  {
   "cell_type": "code",
   "execution_count": 34,
   "metadata": {},
   "outputs": [],
   "source": [
    "df_credit = pd.read_csv(\"../data/interim/creditcard_min_max.csv\")\n",
    "credit_array = df_credit.values\n",
    "total_length = len(credit_array)  # Get the total number of elements in credit_array\n",
    "\n",
    "\n",
    "twenty_percent_length = int(0.2 * total_length)  # Calculate 20% of the total length\n",
    "# Slice the first 20 percent of the values in credit_array\n",
    "credit_array_cut = credit_array[:twenty_percent_length]\n",
    "\n",
    "# Specify the test_size and validation_size according to your needs\n",
    "test_size = 0.2  # 80% training, 20% test\n",
    "validation_size = 0.1  # 80% training, 10% validation\n",
    "\n",
    "# Split into training and temporary data\n",
    "train_data, temp_data = train_test_split(\n",
    "    credit_array_cut, test_size=test_size + validation_size, random_state=42\n",
    ")\n",
    "\n",
    "# Split the temporary data into test and validation\n",
    "test_data, validation_data = train_test_split(\n",
    "    temp_data,\n",
    "    test_size=validation_size / (test_size + validation_size),\n",
    "    random_state=42,\n",
    ")"
   ]
  },
  {
   "cell_type": "code",
   "execution_count": 35,
   "metadata": {},
   "outputs": [
    {
     "name": "stdout",
     "output_type": "stream",
     "text": [
      "Epoch 1/20\n",
      "1246/1246 [==============================] - 34s 3ms/step - loss: 0.0647 - cont_decoder_output_loss: 0.0615 - classification_output_loss: 0.0031 - val_loss: 0.0559 - val_cont_decoder_output_loss: 0.0559 - val_classification_output_loss: 1.0283e-05\n",
      "Epoch 2/20\n",
      "1246/1246 [==============================] - 4s 4ms/step - loss: 0.0538 - cont_decoder_output_loss: 0.0537 - classification_output_loss: 1.0586e-05 - val_loss: 0.0533 - val_cont_decoder_output_loss: 0.0533 - val_classification_output_loss: 8.2341e-06\n",
      "Epoch 3/20\n",
      "1246/1246 [==============================] - 4s 3ms/step - loss: 0.0532 - cont_decoder_output_loss: 0.0532 - classification_output_loss: 7.1463e-06 - val_loss: 0.0532 - val_cont_decoder_output_loss: 0.0532 - val_classification_output_loss: 4.9321e-06\n",
      "Epoch 4/20\n",
      "1246/1246 [==============================] - 4s 4ms/step - loss: 0.0420 - cont_decoder_output_loss: 0.0420 - classification_output_loss: 3.3606e-05 - val_loss: 0.0310 - val_cont_decoder_output_loss: 0.0310 - val_classification_output_loss: 6.3085e-06\n",
      "Epoch 5/20\n",
      "1246/1246 [==============================] - 4s 4ms/step - loss: 0.0309 - cont_decoder_output_loss: 0.0309 - classification_output_loss: 4.0002e-06 - val_loss: 0.0309 - val_cont_decoder_output_loss: 0.0309 - val_classification_output_loss: 4.2501e-06\n",
      "Epoch 6/20\n",
      "1246/1246 [==============================] - 4s 4ms/step - loss: 0.1263 - cont_decoder_output_loss: 0.1220 - classification_output_loss: 0.0044 - val_loss: 0.2789 - val_cont_decoder_output_loss: 0.2789 - val_classification_output_loss: 1.3901e-05\n",
      "Epoch 7/20\n",
      "1246/1246 [==============================] - 4s 3ms/step - loss: 0.2790 - cont_decoder_output_loss: 0.2790 - classification_output_loss: 7.0192e-06 - val_loss: 0.2789 - val_cont_decoder_output_loss: 0.2789 - val_classification_output_loss: 4.8790e-06\n",
      "Epoch 8/20\n",
      "1246/1246 [==============================] - 5s 4ms/step - loss: 0.2790 - cont_decoder_output_loss: 0.2790 - classification_output_loss: 3.3969e-06 - val_loss: 0.2786 - val_cont_decoder_output_loss: 0.2786 - val_classification_output_loss: 1.9930e-06\n",
      "Epoch 9/20\n",
      "1246/1246 [==============================] - 5s 4ms/step - loss: 0.2773 - cont_decoder_output_loss: 0.2773 - classification_output_loss: 2.8159e-05 - val_loss: 0.0587 - val_cont_decoder_output_loss: 0.0583 - val_classification_output_loss: 3.6450e-04\n",
      "Epoch 10/20\n",
      "1246/1246 [==============================] - 5s 4ms/step - loss: 0.0147 - cont_decoder_output_loss: 0.0147 - classification_output_loss: 1.1189e-05 - val_loss: 0.0142 - val_cont_decoder_output_loss: 0.0141 - val_classification_output_loss: 2.9899e-06\n",
      "Epoch 11/20\n",
      "1246/1246 [==============================] - 5s 4ms/step - loss: 0.0114 - cont_decoder_output_loss: 0.0114 - classification_output_loss: 4.3958e-06 - val_loss: 0.0036 - val_cont_decoder_output_loss: 0.0036 - val_classification_output_loss: 4.2715e-06\n",
      "Epoch 12/20\n",
      "1246/1246 [==============================] - 5s 4ms/step - loss: 0.0036 - cont_decoder_output_loss: 0.0036 - classification_output_loss: 2.9866e-06 - val_loss: 0.0034 - val_cont_decoder_output_loss: 0.0034 - val_classification_output_loss: 1.9895e-06\n",
      "Epoch 13/20\n",
      "1246/1246 [==============================] - 6s 5ms/step - loss: 0.0023 - cont_decoder_output_loss: 0.0023 - classification_output_loss: 2.9142e-06 - val_loss: 0.0011 - val_cont_decoder_output_loss: 0.0011 - val_classification_output_loss: 2.8570e-06\n",
      "Epoch 14/20\n",
      "1246/1246 [==============================] - 7s 5ms/step - loss: 0.0011 - cont_decoder_output_loss: 0.0011 - classification_output_loss: 2.1147e-06 - val_loss: 0.0010 - val_cont_decoder_output_loss: 0.0010 - val_classification_output_loss: 2.2408e-06\n",
      "Epoch 15/20\n",
      "1246/1246 [==============================] - 7s 6ms/step - loss: 9.7032e-04 - cont_decoder_output_loss: 9.6820e-04 - classification_output_loss: 2.1245e-06 - val_loss: 9.0905e-04 - val_cont_decoder_output_loss: 8.8725e-04 - val_classification_output_loss: 2.1804e-05\n",
      "Epoch 16/20\n",
      "1246/1246 [==============================] - 6s 5ms/step - loss: 7.6021e-04 - cont_decoder_output_loss: 7.5838e-04 - classification_output_loss: 1.8257e-06 - val_loss: 7.5063e-04 - val_cont_decoder_output_loss: 7.4975e-04 - val_classification_output_loss: 8.7760e-07\n",
      "Epoch 17/20\n",
      "1246/1246 [==============================] - 5s 4ms/step - loss: 6.4740e-04 - cont_decoder_output_loss: 6.4638e-04 - classification_output_loss: 1.0245e-06 - val_loss: 5.8676e-04 - val_cont_decoder_output_loss: 5.8602e-04 - val_classification_output_loss: 7.4846e-07\n",
      "Epoch 18/20\n",
      "1246/1246 [==============================] - 5s 4ms/step - loss: 5.6151e-04 - cont_decoder_output_loss: 5.6071e-04 - classification_output_loss: 7.9656e-07 - val_loss: 5.1382e-04 - val_cont_decoder_output_loss: 5.1300e-04 - val_classification_output_loss: 8.1314e-07\n",
      "Epoch 19/20\n",
      "1246/1246 [==============================] - 5s 4ms/step - loss: 4.7635e-04 - cont_decoder_output_loss: 4.7571e-04 - classification_output_loss: 6.4506e-07 - val_loss: 4.2639e-04 - val_cont_decoder_output_loss: 4.2604e-04 - val_classification_output_loss: 3.4755e-07\n",
      "Epoch 20/20\n",
      "1246/1246 [==============================] - 5s 4ms/step - loss: 3.8271e-04 - cont_decoder_output_loss: 3.8223e-04 - classification_output_loss: 4.7955e-07 - val_loss: 3.2681e-04 - val_cont_decoder_output_loss: 3.2653e-04 - val_classification_output_loss: 2.7693e-07\n"
     ]
    },
    {
     "data": {
      "text/plain": [
       "<keras.callbacks.History at 0x1f24e793940>"
      ]
     },
     "execution_count": 35,
     "metadata": {},
     "output_type": "execute_result"
    }
   ],
   "source": [
    "from keras.callbacks import EarlyStopping\n",
    "\n",
    "# Define the EarlyStopping callback\n",
    "early_stopping_callback = EarlyStopping(\n",
    "    monitor=\"val_loss\",  # Monitoring validation loss\n",
    "    patience=5,  # Number of epochs with no improvement after which training will be stopped\n",
    "    restore_best_weights=True,  # Restore weights to the best model observed during training\n",
    ")\n",
    "\n",
    "# Fit the autoencoder model with two different outputs and their respective target data\n",
    "autoencoder.fit(\n",
    "    train_data,\n",
    "    {\n",
    "        \"cont_decoder_output\": train_data[:, :30],\n",
    "        \"classification_output\": train_data[:, 30:],\n",
    "    },  # Provide target data for each output\n",
    "    epochs=20,\n",
    "    batch_size=32,\n",
    "    validation_data=(\n",
    "        test_data,\n",
    "        {\n",
    "            \"cont_decoder_output\": test_data[:, :30],\n",
    "            \"classification_output\": test_data[:, 30:],\n",
    "        },\n",
    "    ),  # Provide validation data here\n",
    "    callbacks=[early_stopping_callback],\n",
    ")"
   ]
  },
  {
   "cell_type": "code",
   "execution_count": 36,
   "metadata": {},
   "outputs": [
    {
     "name": "stdout",
     "output_type": "stream",
     "text": [
      "356/356 [==============================] - 1s 2ms/step\n"
     ]
    }
   ],
   "source": [
    "generated_data = autoencoder.predict(test_data)"
   ]
  },
  {
   "cell_type": "code",
   "execution_count": 37,
   "metadata": {},
   "outputs": [],
   "source": [
    "reconstructed_cont_output = generated_data[0]\n",
    "reconstructed_class_output = generated_data[1]"
   ]
  },
  {
   "cell_type": "code",
   "execution_count": 48,
   "metadata": {},
   "outputs": [],
   "source": [
    "binary_predictions = (reconstructed_class_output >= 0.5).astype(int)"
   ]
  },
  {
   "cell_type": "code",
   "execution_count": 56,
   "metadata": {},
   "outputs": [
    {
     "data": {
      "text/plain": [
       "0.0028967696629213485"
      ]
     },
     "execution_count": 56,
     "metadata": {},
     "output_type": "execute_result"
    }
   ],
   "source": [
    "sum(test_data[:, 30])/len(test_data)"
   ]
  },
  {
   "cell_type": "code",
   "execution_count": 55,
   "metadata": {},
   "outputs": [
    {
     "data": {
      "text/plain": [
       "array([0.00289677])"
      ]
     },
     "execution_count": 55,
     "metadata": {},
     "output_type": "execute_result"
    }
   ],
   "source": [
    "sum(binary_predictions)/len(binary_predictions)"
   ]
  },
  {
   "cell_type": "code",
   "execution_count": 54,
   "metadata": {},
   "outputs": [
    {
     "data": {
      "image/png": "[encoded data removed]",
      "text/plain": [
       "<Figure size 640x480 with 1 Axes>"
      ]
     },
     "metadata": {},
     "output_type": "display_data"
    }
   ],
   "source": [
    "# Assuming iris_array is the NumPy array you obtained from the Pandas DataFrame\n",
    "colum_num = 14\n",
    "original_column = train_data[:, 30]\n",
    "\n",
    "synth_column = binary_predictions\n",
    "\n",
    "# Calculate the percentage for original_column\n",
    "total_points_original = len(original_column)\n",
    "percentage_original = (original_column / total_points_original) * 100\n",
    "\n",
    "# Calculate the percentage for synth_column\n",
    "total_points_synth = len(synth_column)\n",
    "percentage_synth = (synth_column / total_points_synth) * 100\n",
    "\n",
    "# Plot histograms\n",
    "plt.hist(\n",
    "    original_column,\n",
    "    bins=25,\n",
    "    color=\"g\",\n",
    "    alpha=0.6,\n",
    "    weights=np.ones_like(original_column) / total_points_original * 100,\n",
    "    label=\"Original Data\",\n",
    ")\n",
    "\n",
    "plt.hist(\n",
    "    synth_column,\n",
    "    bins=25,\n",
    "    color=\"b\",\n",
    "    alpha=0.6,\n",
    "    weights=np.ones_like(synth_column) / total_points_synth * 100,\n",
    "    label=\"Synthetic Data\",\n",
    ")\n",
    "\n",
    "plt.title(\"Histogram of Original and Synthetic Data\")\n",
    "plt.xlabel(\"Values\")\n",
    "plt.ylabel(\"Percentage\")\n",
    "plt.legend()\n",
    "plt.show()"
   ]
  }
 ],
 "metadata": {
  "kernelspec": {
   "display_name": "var_auto",
   "language": "python",
   "name": "python3"
  },
  "language_info": {
   "codemirror_mode": {
    "name": "ipython",
    "version": 3
   },
   "file_extension": ".py",
   "mimetype": "text/x-python",
   "name": "python",
   "nbconvert_exporter": "python",
   "pygments_lexer": "ipython3",
   "version": "3.10.13"
  }
 },
 "nbformat": 4,
 "nbformat_minor": 2
}
